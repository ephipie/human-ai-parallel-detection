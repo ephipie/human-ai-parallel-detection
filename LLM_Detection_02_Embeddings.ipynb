{
  "nbformat": 4,
  "nbformat_minor": 0,
  "metadata": {
    "colab": {
      "provenance": [],
      "gpuType": "T4",
      "authorship_tag": "ABX9TyPqQ6JjYj8U9lJAC8I5btXU",
      "include_colab_link": true
    },
    "kernelspec": {
      "name": "python3",
      "display_name": "Python 3"
    },
    "language_info": {
      "name": "python"
    },
    "accelerator": "GPU"
  },
  "cells": [
    {
      "cell_type": "markdown",
      "metadata": {
        "id": "view-in-github",
        "colab_type": "text"
      },
      "source": [
        "<a href=\"https://colab.research.google.com/github/ephipie/human-ai-parallel-detection/blob/main/LLM_Detection_02_Embeddings.ipynb\" target=\"_parent\"><img src=\"https://colab.research.google.com/assets/colab-badge.svg\" alt=\"Open In Colab\"/></a>"
      ]
    },
    {
      "cell_type": "code",
      "execution_count": null,
      "metadata": {
        "id": "tlZUvT74-a9A"
      },
      "outputs": [],
      "source": [
        "!pip install transformers -q"
      ]
    },
    {
      "cell_type": "code",
      "source": [
        "from sentence_transformers import SentenceTransformer\n",
        "from sentence_transformers import util\n",
        "import pandas as pd\n",
        "import numpy as np"
      ],
      "metadata": {
        "id": "yJattmWx-34m"
      },
      "execution_count": null,
      "outputs": []
    },
    {
      "cell_type": "code",
      "source": [
        "model = SentenceTransformer('AnnaWegmann/Style-Embedding')"
      ],
      "metadata": {
        "id": "z3XehWVg_eby"
      },
      "execution_count": null,
      "outputs": []
    },
    {
      "cell_type": "code",
      "source": [
        "from google.colab import drive\n",
        "drive.mount('/content/drive')\n",
        "\n",
        "working_df = pd.read_parquet(\"/content/drive/MyDrive/shared_data/llm_detection_data.parquet\")"
      ],
      "metadata": {
        "id": "6udcuKwH_plC"
      },
      "execution_count": null,
      "outputs": []
    },
    {
      "cell_type": "code",
      "source": [
        "%%time\n",
        "\n",
        "TEXT_COLS_TO_EMB  = [\"chunk_1\", \"chunk_2\", \"gpt\", \"llama\"]\n",
        "BATCH             = 64\n",
        "PROGRESS_BAR      = True\n",
        "\n",
        "def compute_col_embeddings(df,columns = TEXT_COLS_TO_EMB,batch_size=BATCH,progress_bar = PROGRESS_BAR):\n",
        "  for col in columns:\n",
        "      # Prepare a clean list of strings (empty string -> 0-vector).\n",
        "      texts     = df[col].fillna(\"\").tolist()\n",
        "\n",
        "      # Batch-compute embeddings in one shot.\n",
        "      embs      = model.encode(\n",
        "          texts,\n",
        "          batch_size        = batch_size,\n",
        "          show_progress_bar = progress_bar,\n",
        "          convert_to_numpy  = True,\n",
        "          normalize_embeddings = False   #\n",
        "      )\n",
        "      # Write back as a new column\n",
        "      df[f\"{col}_embeddings\"] = list(embs)\n",
        "\n",
        "\n",
        "compute_col_embeddings(working_df)"
      ],
      "metadata": {
        "id": "xWTrr_X1_L7Z"
      },
      "execution_count": null,
      "outputs": []
    },
    {
      "cell_type": "code",
      "source": [
        "# from google.colab import drive\n",
        "# drive.mount('/content/drive')\n",
        "\n",
        "# Save\n",
        "working_df.to_parquet('/content/drive/MyDrive/shared_data/llm_detection_data_embeds.parquet')"
      ],
      "metadata": {
        "id": "1DGS7rsYAJex"
      },
      "execution_count": null,
      "outputs": []
    },
    {
      "cell_type": "code",
      "source": [],
      "metadata": {
        "id": "7if9Hr3qFnpk"
      },
      "execution_count": null,
      "outputs": []
    }
  ]
}