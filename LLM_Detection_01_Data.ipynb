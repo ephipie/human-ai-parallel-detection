{
  "nbformat": 4,
  "nbformat_minor": 0,
  "metadata": {
    "colab": {
      "provenance": [],
      "authorship_tag": "ABX9TyPc7Lb3XQNJQC+9NghqLvDb",
      "include_colab_link": true
    },
    "kernelspec": {
      "name": "python3",
      "display_name": "Python 3"
    },
    "language_info": {
      "name": "python"
    }
  },
  "cells": [
    {
      "cell_type": "markdown",
      "metadata": {
        "id": "view-in-github",
        "colab_type": "text"
      },
      "source": [
        "<a href=\"https://colab.research.google.com/github/ephipie/human-ai-parallel-detection/blob/main/LLM_Detection_01_Data.ipynb\" target=\"_parent\"><img src=\"https://colab.research.google.com/assets/colab-badge.svg\" alt=\"Open In Colab\"/></a>"
      ]
    },
    {
      "cell_type": "code",
      "execution_count": null,
      "metadata": {
        "id": "kROLfisJYQHE"
      },
      "outputs": [],
      "source": [
        "!pip install datasets -q"
      ]
    },
    {
      "cell_type": "code",
      "source": [
        "import pandas as pd\n",
        "import numpy as np\n",
        "from datasets import load_dataset\n",
        "np.random.seed(42)"
      ],
      "metadata": {
        "id": "sf3HJ2HubiUx"
      },
      "execution_count": null,
      "outputs": []
    },
    {
      "cell_type": "code",
      "source": [
        "NUM_SAMPLES_PER_SOURCE_TYPE = 100"
      ],
      "metadata": {
        "id": "dEg1buPP4wcj"
      },
      "execution_count": null,
      "outputs": []
    },
    {
      "cell_type": "code",
      "source": [
        "orig_dataset = load_dataset(\"browndw/human-ai-parallel-corpus\")"
      ],
      "metadata": {
        "id": "Vq8cal2TbT5e"
      },
      "execution_count": null,
      "outputs": []
    },
    {
      "cell_type": "code",
      "source": [
        "# Take a peek at dataset structure, it has only\n",
        "orig_dataset"
      ],
      "metadata": {
        "id": "KS3dSZSrbpmj"
      },
      "execution_count": null,
      "outputs": []
    },
    {
      "cell_type": "code",
      "source": [
        "orig_df = pd.DataFrame(orig_dataset['train'])"
      ],
      "metadata": {
        "id": "8WU9yEeOb0_s"
      },
      "execution_count": null,
      "outputs": []
    },
    {
      "cell_type": "code",
      "source": [
        "def display_full(df):\n",
        "    with pd.option_context('display.max_rows', None,\n",
        "                           'display.max_columns', None,\n",
        "                           'display.max_colwidth', None,\n",
        "                           'display.width', None):\n",
        "        display(df)\n",
        "\n",
        "orig_df.head(2)"
      ],
      "metadata": {
        "id": "0Zg-jwP_cv0b"
      },
      "execution_count": null,
      "outputs": []
    },
    {
      "cell_type": "code",
      "source": [
        "def parse_id_column(df, id_col='doc_id'):\n",
        "    df[['domain', 'serial_num']] = df[id_col].str.split('_', n=1, expand=True)\n",
        "    df[['serial_num', 'model']] = df['serial_num'].str.split('@', n=1, expand=True)\n",
        "    return df\n",
        "\n",
        "df = parse_id_column(orig_df)\n",
        "df.head()"
      ],
      "metadata": {
        "id": "VWqvv3QWgcwT"
      },
      "execution_count": null,
      "outputs": []
    },
    {
      "cell_type": "code",
      "source": [
        "# Get counts of unique domain and model combinations\n",
        "source_model_counts = df.groupby(['domain', 'model']).size().reset_index(name='count')\n",
        "print(source_model_counts.sort_values('count', ascending=False))"
      ],
      "metadata": {
        "id": "mwkSzQNs3fl3"
      },
      "execution_count": null,
      "outputs": []
    },
    {
      "cell_type": "code",
      "source": [
        "def sample_groups(df, n):\n",
        "    sampled_df = pd.DataFrame()\n",
        "    for source_type in df['domain'].unique():\n",
        "        source_df = df[df['domain'] == source_type]\n",
        "        serial_nums = source_df['serial_num'].unique()\n",
        "        if len(serial_nums) <=n:\n",
        "          sampled_serial_nums = serial_nums\n",
        "        else:\n",
        "          sampled_serial_nums = np.random.choice(serial_nums, size=n, replace=False)\n",
        "\n",
        "        for serial_num in sampled_serial_nums:\n",
        "          sampled_df = pd.concat([sampled_df, source_df[source_df['serial_num'] == serial_num]])\n",
        "    return sampled_df\n",
        "\n",
        "sample_df = sample_groups(df, NUM_SAMPLES_PER_SOURCE_TYPE)\n",
        "print(sample_df.groupby(\"domain\").size().reset_index(name='count'))"
      ],
      "metadata": {
        "id": "j0B3cZYh39g_"
      },
      "execution_count": null,
      "outputs": []
    },
    {
      "cell_type": "code",
      "source": [
        "def transpose_df(df):\n",
        "    return df.pivot_table(\n",
        "        index=['serial_num', 'domain'],\n",
        "        columns='model',\n",
        "        values='text',\n",
        "        aggfunc='first'\n",
        "    ).reset_index()\n",
        "\n",
        "# Usage\n",
        "sample_df_T = transpose_df(sample_df)\n",
        "print(len(sample_df_T))"
      ],
      "metadata": {
        "id": "Mf7dqcqW6DS5"
      },
      "execution_count": null,
      "outputs": []
    },
    {
      "cell_type": "code",
      "source": [
        "sample_df_T.head()"
      ],
      "metadata": {
        "id": "t7kNnPcD6dGM"
      },
      "execution_count": null,
      "outputs": []
    },
    {
      "cell_type": "code",
      "source": [
        "# Rename columns for ease of use\n",
        "\n",
        "# Rename the specified columns and drop the others\n",
        "working_df = sample_df_T.rename(columns={\n",
        "    'Meta-Llama-3-70B-Instruct': 'llama',\n",
        "    'gpt-4o-2024-08-06': 'gpt'\n",
        "})\n",
        "\n",
        "# Keep only the columns we want\n",
        "working_df = working_df[['serial_num', 'domain','chunk_1', 'chunk_2','gpt', 'llama']]\n",
        "print(\"\\nAfter renaming\\n\")\n",
        "\n",
        "for col in working_df.columns:\n",
        "  print(col)"
      ],
      "metadata": {
        "id": "fazWryVr7yyh"
      },
      "execution_count": null,
      "outputs": []
    },
    {
      "cell_type": "code",
      "source": [
        "from google.colab import drive\n",
        "drive.mount('/content/drive')\n",
        "\n",
        "output_folder = '/content/drive/MyDrive/shared_data'\n",
        "\n",
        "if not os.path.exists(output_folder):\n",
        "      os.makedirs(output_folder)\n",
        "\n",
        "working_df.to_parquet(f'{output_folder}/llm_detection_data.parquet')"
      ],
      "metadata": {
        "id": "Ucb95RwD8U_d"
      },
      "execution_count": null,
      "outputs": []
    }
  ]
}